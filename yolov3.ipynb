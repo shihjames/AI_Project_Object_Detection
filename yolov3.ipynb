{
  "cells": [
    {
      "cell_type": "code",
      "execution_count": null,
      "metadata": {
        "colab": {
          "base_uri": "https://localhost:8080/"
        },
        "id": "9-zvZ1G0Fpsy",
        "outputId": "c23067c1-30fc-4a08-fbeb-9ec889fa4645"
      },
      "outputs": [],
      "source": [
        "!git clone https://github.com/ultralytics/yolov3"
      ]
    },
    {
      "cell_type": "code",
      "execution_count": null,
      "metadata": {
        "colab": {
          "base_uri": "https://localhost:8080/"
        },
        "id": "80D2CPAZTqj2",
        "outputId": "c7bd47fa-d7ba-4ecf-89ec-ad2f109bd91b"
      },
      "outputs": [],
      "source": [
        "### import files from google drive ###\n",
        "import os\n",
        "from google.colab import drive\n",
        "drive.mount('/content/drive')"
      ]
    },
    {
      "cell_type": "code",
      "execution_count": null,
      "metadata": {
        "colab": {
          "base_uri": "https://localhost:8080/"
        },
        "id": "OgrEqRZlSdWM",
        "outputId": "6ce6e36f-26f7-40b5-88b8-7ccc1dff18a3"
      },
      "outputs": [],
      "source": [
        "### Unzip image files ###\n",
        "!unzip /content/drive/MyDrive/Colab Notebooks/YOLO_v3/MIO_TCD_21000.zip\n",
        "!mv \"/content/MIO_TCD_21000\" \"/content/yolov3\"\n"
      ]
    },
    {
      "cell_type": "code",
      "execution_count": null,
      "metadata": {
        "id": "1QoDasS_XUw-"
      },
      "outputs": [],
      "source": [
        "### Move wieghts file to current directory ###\n",
        "!cp \"/content/drive/MyDrive/Colab Notebooks/YOLO_v3/best.pt\" \"/content/yolov3\""
      ]
    },
    {
      "cell_type": "code",
      "execution_count": null,
      "metadata": {
        "colab": {
          "base_uri": "https://localhost:8080/"
        },
        "id": "sqiOGTdgfk0r",
        "outputId": "8f49f531-5b10-403f-c9d1-aaf452ca601a"
      },
      "outputs": [],
      "source": [
        "### Customize the path below ###\n",
        "!git clone https://github.com/shihjames/Object-Detection-YOLOv3/MIO_TCD_yaml\n",
        "!mv \"/content/yolov3/MIO_TCD_yaml/MIO_TCD.yaml\" \"/content/yolov3/data\"\n",
        "!rm -rf /content/MIO_TCD_yaml\n",
        "\n",
        "%cd yolov3"
      ]
    },
    {
      "cell_type": "code",
      "execution_count": null,
      "metadata": {
        "colab": {
          "base_uri": "https://localhost:8080/"
        },
        "id": "OjJEeps1Sibd",
        "outputId": "9d8edf7d-4ea9-4ee2-ab58-30a469e87964"
      },
      "outputs": [],
      "source": [
        "%pip install -r requirements.txt \n",
        "%pip install wandb"
      ]
    },
    {
      "cell_type": "code",
      "execution_count": null,
      "metadata": {
        "colab": {
          "base_uri": "https://localhost:8080/"
        },
        "id": "Hn2Z_a-wSk5v",
        "outputId": "114a950b-ef23-4146-fbfd-471021be4e00"
      },
      "outputs": [],
      "source": [
        "!python train.py -h"
      ]
    },
    {
      "cell_type": "code",
      "execution_count": null,
      "metadata": {
        "colab": {
          "base_uri": "https://localhost:8080/"
        },
        "id": "MsczJhv7XztS",
        "outputId": "e51fe896-87af-436a-e696-cf6fc3d9294a"
      },
      "outputs": [],
      "source": [
        "!python train.py --img-size 342 --epochs 30 --data MIO_TCD.yaml --weights best1.pt --cache-images --hyp /data/hyp.finetune.yaml "
      ]
    },
    {
      "cell_type": "code",
      "execution_count": null,
      "metadata": {
        "colab": {
          "base_uri": "https://localhost:8080/"
        },
        "id": "RVrGBhP4aWKt",
        "outputId": "f59f80ed-8d0b-47a1-dd06-36fa13fd4f7c"
      },
      "outputs": [],
      "source": [
        "!python detect.py -h"
      ]
    },
    {
      "cell_type": "code",
      "execution_count": null,
      "metadata": {
        "id": "bkgSoUAcX3eh"
      },
      "outputs": [],
      "source": [
        "import torch\n",
        "from IPython.display import Image, clear_output  # to display images"
      ]
    },
    {
      "cell_type": "code",
      "execution_count": null,
      "metadata": {
        "colab": {
          "base_uri": "https://localhost:8080/",
          "height": 369
        },
        "id": "Lmy-_wYbvaGI",
        "outputId": "5bda7da3-0315-4447-ae19-bc5ad3f77c9e"
      },
      "outputs": [],
      "source": [
        "### filename 要從/content/yolov3/runs/train/ + \"exp folder\" 那邊copy path\n",
        "Image(filename='/content/yolov3/runs/train/exp/train_batch0.jpg', width=352)  # train batch 0 mosaics and labels\n",
        "Image(filename='/content/yolov3/runs/train/exp/train_batch1.jpg', width=352)  # test batch 0 labels\n",
        "Image(filename='/content/yolov3/runs/train/exp/train_batch2.jpg', width=352)  # test batch 0 predictions"
      ]
    },
    {
      "cell_type": "code",
      "execution_count": null,
      "metadata": {
        "colab": {
          "base_uri": "https://localhost:8080/",
          "height": 417
        },
        "id": "8lFlozSpzUzF",
        "outputId": "deb48209-1f14-472e-d91c-4f74068d0c68"
      },
      "outputs": [],
      "source": [
        "from utils.plots import plot_results \n",
        "plot_results(save_dir='runs/train/exp')  # plot all results*.txt as results.png\n",
        "Image(filename='runs/train/exp/results.png', width=800)"
      ]
    },
    {
      "cell_type": "code",
      "execution_count": null,
      "metadata": {
        "colab": {
          "base_uri": "https://localhost:8080/"
        },
        "id": "tmTPeF50auSm",
        "outputId": "0756949b-8d36-4b10-c11b-d756c7c8e324"
      },
      "outputs": [],
      "source": [
        "!python detect.py --weights /content/yolov3/runs/train/exp/weights/best.pt --source MIO_TCD_21000/images/test"
      ]
    },
    {
      "cell_type": "code",
      "execution_count": null,
      "metadata": {
        "colab": {
          "base_uri": "https://localhost:8080/",
          "height": 35
        },
        "id": "4n9o6SFGjkDo",
        "outputId": "9a2ead91-b572-44cd-ce8a-6414cc24b5d9"
      },
      "outputs": [],
      "source": [
        "# zip test result folder and download it\n",
        "from google.colab import files\n",
        "!zip -r exp.zip runs/detect/exp\n",
        "\n",
        "files.download(\"exp.zip\")"
      ]
    }
  ],
  "metadata": {
    "accelerator": "GPU",
    "colab": {
      "provenance": []
    },
    "kernelspec": {
      "display_name": "Python 3",
      "name": "python3"
    },
    "language_info": {
      "name": "python"
    }
  },
  "nbformat": 4,
  "nbformat_minor": 0
}
